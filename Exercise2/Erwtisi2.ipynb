{
 "cells": [
  {
   "cell_type": "markdown",
   "id": "a40402a2",
   "metadata": {},
   "source": [
    "ΜΕ ΧΡΗΣΗ ΕΝΟΣ (1) ΠΑΣΟΥ ΓΙΑ ΠΑΡΑΤΑΣΗ ΕΩΣ 13/1"
   ]
  },
  {
   "cell_type": "markdown",
   "id": "932f1d77",
   "metadata": {},
   "source": [
    "# Βήμα 1"
   ]
  },
  {
   "cell_type": "code",
   "execution_count": 34,
   "id": "9aafd9e4",
   "metadata": {},
   "outputs": [
    {
     "name": "stdout",
     "output_type": "stream",
     "text": [
      "Num of filtered data: 2969\n",
      "Num of users that have reviewed at least 5 cellphones: 389\n",
      "Num of phones that have been reviewed from at least 5 users: 177\n"
     ]
    }
   ],
   "source": [
    "import pandas as pd\n",
    "\n",
    "csv_file = pd.read_csv('cell_phone_ratings.csv')  # Διάβασμα αρχείου CSV\n",
    "\n",
    "\n",
    "while True:\n",
    "    user_counts = csv_file['reviewerID'].value_counts()  # Υπολογισμός του αριθμού των βαθμολογιών ανά χρήστη\n",
    "    phone_counts = csv_file['asin'].value_counts()  # Υπολογισμός του αριθμού των βαθμολογιών ανά τηλέφωνο\n",
    "\n",
    "    filtered_users = user_counts[user_counts > 5] # χρήστες που έχουν κάνει τουλάχιστον 5 αξιολογήσεις   \n",
    "    filtered_phones = phone_counts[phone_counts > 5] # κινητά με τουλάχιστόν 5 αξιολογήσεις \n",
    "    \n",
    "    # Νέο DataFrame, το οποίο περιέχει μόνο τις γραμμές από το αρχικό DataFrame που αντιστοιχούν στους χρήστες και τα τηλέφωνα που έχουν περάσει τα κριτήρια φιλτραρίσματος\n",
    "    filtered_data = csv_file[csv_file['reviewerID'].isin(filtered_users.index) & csv_file['asin'].isin(filtered_phones.index)]\n",
    "    \n",
    "    # Έλεγχος αν όλοι οι χρήστες έχουν αξιολογήσει τουλάχιστον 5 φορές και αν ολα τα κινητα έχουν τουλαχιστον 5 αξιολογήσεις\n",
    "    if len(csv_file)==len(filtered_data):\n",
    "        break\n",
    "    csv_file = filtered_data\n",
    "\n",
    "print(\"Num of filtered data:\", len(csv_file))\n",
    "print(\"Num of users that have reviewed at least 5 cellphones:\", len(filtered_users))\n",
    "print(\"Num of phones that have been reviewed from at least 5 users:\", len(filtered_phones))\n"
   ]
  },
  {
   "cell_type": "code",
   "execution_count": 35,
   "id": "d2d96cb0",
   "metadata": {},
   "outputs": [
    {
     "name": "stdout",
     "output_type": "stream",
     "text": [
      "Αριθμός τριάδων στο train set: 2672\n",
      "Αριθμός τριάδων στο test set: 297\n"
     ]
    }
   ],
   "source": [
    "from sklearn.model_selection import train_test_split\n",
    "\n",
    "# Δημιουργία train και test sets\n",
    "train_data, test_data = train_test_split(filtered_data, test_size=0.1, train_size=0.9, random_state=43)\n",
    "\n",
    "print(\"Αριθμός τριάδων στο train set:\", len(train_data))\n",
    "print(\"Αριθμός τριάδων στο test set:\", len(test_data))"
   ]
  },
  {
   "cell_type": "markdown",
   "id": "4cafc3a0",
   "metadata": {},
   "source": [
    "# Βήμα 2"
   ]
  },
  {
   "cell_type": "code",
   "execution_count": 85,
   "id": "d1021e35",
   "metadata": {},
   "outputs": [
    {
     "name": "stdout",
     "output_type": "stream",
     "text": [
      "Το RMSE για τον αλγόριθμο User Average (UA): 0.5397865558697561\n",
      "Το RMSE για τον αλγόριθμο Item Average (IA): 0.5138120657943773\n"
     ]
    }
   ],
   "source": [
    "import pandas as pd\n",
    "from sklearn.metrics import mean_squared_error\n",
    "from math import sqrt\n",
    "\n",
    "\n",
    "ratings_test = pd.read_csv('ratings_test.csv')  # Διάβασμα αρχείου CSV\n",
    "ratings_train = pd.read_csv('ratings_train.csv')  # Διάβασμα αρχείου CSV\n",
    "\n",
    "UA_ratings = ratings_train.groupby('reviewerID')['overall'].mean() # Υπολογισμός User Average\n",
    "\n",
    "IA_ratings = ratings_train.groupby('asin')['overall'].mean() # Υπολογισμός Item Average\n",
    "\n",
    "# Συνάρτηση για πρόβλεψη βαθμολογίας με βάση τον User Average\n",
    "def predict_UA(user):\n",
    "    return UA_ratings.loc[user] # επιστρέφει τον μέσο όρο (βαθμολογία) του χρήστη από το UA_ratings Dataframe \n",
    "    #(με την εντολή .loc(user) επιλέγεται η σειρά που αντιστοιχεί στον συγκεκριμένο χρήστη από το Dataframe UA_ratings)\n",
    "\n",
    "    \n",
    "# Συνάρτηση για πρόβλεψη βαθμολογίας με βάση τον Item Average\n",
    "def predict_IA(item):\n",
    "    return IA_ratings.loc[item] # επιστρέφει τον μέσο όρο (βαθμολογία) του item από το IA_ratings Dataframe \n",
    "    \n",
    "    \n",
    "# Προβλέψεις για το test set\n",
    "ratings_test['predicted_UA'] = ratings_test['reviewerID'].apply(predict_UA)\n",
    "ratings_test['predicted_IA'] = ratings_test['asin'].apply(predict_IA)\n",
    "\n",
    "# Υπολογισμός RMSE για User Average\n",
    "rmse_UA = sqrt(mean_squared_error(ratings_test['overall'], ratings_test['predicted_UA']))\n",
    "\n",
    "# Υπολογισμός RMSE για Item Average\n",
    "rmse_IA = sqrt(mean_squared_error(ratings_test['overall'], ratings_test['predicted_IA']))\n",
    "\n",
    "print(\"Το RMSE για τον αλγόριθμο User Average (UA):\", rmse_UA)\n",
    "print(\"Το RMSE για τον αλγόριθμο Item Average (IA):\", rmse_IA)\n"
   ]
  },
  {
   "cell_type": "markdown",
   "id": "f81f0200",
   "metadata": {},
   "source": [
    "# Βήμα 3"
   ]
  },
  {
   "cell_type": "code",
   "execution_count": 58,
   "id": "1ddeefc8",
   "metadata": {},
   "outputs": [
    {
     "name": "stdout",
     "output_type": "stream",
     "text": [
      "Πρώτα 20 Singular Values: [16.44491525 10.7059381   9.10408467  8.54050128  8.26006579  7.4454296\n",
      "  7.2426423   6.87369706  6.72589658  6.67790062  6.53007773  6.49126436\n",
      "  6.41190968  6.2810104   6.16455132  6.09859499  6.04507528  5.91376564\n",
      "  5.85964205  5.80882594]\n"
     ]
    }
   ],
   "source": [
    "import numpy as np\n",
    "from sklearn.metrics import mean_squared_error\n",
    "import matplotlib.pyplot as plt\n",
    "import pandas as pd\n",
    "\n",
    "\n",
    "# Διάβασμα των training data και test data από τα CSV\n",
    "train_data = pd.read_csv('ratings_train.csv')\n",
    "test_data = pd.read_csv('ratings_test.csv')\n",
    "\n",
    "# Αντιστοίχιση reviewerIDs\n",
    "unique_reviewerIDs = train_data['reviewerID'].unique()\n",
    "reviewerID_mapping = {id: i for i, id in enumerate(unique_reviewerIDs)}\n",
    "\n",
    "train_data['reviewerID_mapped'] = train_data['reviewerID'].map(reviewerID_mapping)\n",
    "\n",
    "# Αντιστοίχιση asins\n",
    "unique_asins = train_data['asin'].unique()\n",
    "asin_mapping = {asin: i for i, asin in enumerate(unique_asins)}\n",
    "\n",
    "train_data['asin_mapped'] = train_data['asin'].map(asin_mapping)\n",
    "\n",
    "# Δημιουργία ενός αραιού πίνακα γεμισμένου με μηδενικά\n",
    "sparse_array = np.zeros((len(train_data['reviewerID'].unique()), len(train_data['asin'].unique())))\n",
    "\n",
    "# Διατρέχουμε όλες τις γραμμές της στήλης reviewerID και asin\n",
    "# Με την χρήση του .items() επιστρέφεται ένα ζεύγος (index,value), όπου index είναι ο αριθμός γραμμής και το value είναι η τιμή στη συγκεκριμένη στήλη για αυτήν τη γραμμή.\n",
    "for (reviewerID_mapping, reviewerID), (asin_mapping, asin) in zip(train_data['reviewerID'].items(), train_data['asin'].items()):\n",
    "    # Ενημέρωση του αραιού πίνακα\n",
    "    sparse_array = pd.crosstab(train_data['reviewerID_mapped'], train_data['asin_mapped'])\n",
    "\n",
    "\n",
    "# Υπολογισμός της SVD\n",
    "U, Sigma, VT = np.linalg.svd(sparse_array, full_matrices=False)\n",
    "\n",
    "# Πρώτα 20 singular values και τις αντίστοιχες στήλες των U και VT\n",
    "k = 20\n",
    "U_20 = U[:, :k]\n",
    "Sigma_20 = np.diag(Sigma[:k])\n",
    "VT_20 = VT[:k, :]\n",
    "\n",
    "# Προσέγγιση rank-20 του πίνακα sparse_array\n",
    "R_20 = U_20 @ Sigma_20 @ VT_20\n",
    "\n",
    "# Πρώτα 20 singular values\n",
    "singular_values_20 = Sigma[:k]\n",
    "\n",
    "# Εκτύπωση των πρώτων 20 singular values\n",
    "print(\"Πρώτα 20 Singular Values:\", singular_values_20)\n",
    "\n",
    "\n",
    "# Μέχρι αυτό το σημείο ο κώδικας τρέχει χωρίς κάποιο σφάλμα\n",
    "# Παρακάτω παραθέτω το σκεπτικό για την υλοποίηση του υπόλοιπου βήματος, αλλα΄ σε σχόλια καθ΄ώς υπάρχει κάποιο error που λόγω χρόνου δεν επιλύθηκε\n",
    "\n",
    "#rmse_values = []  # Λίστα για την αποθήκευση των τιμών RMSE για κάθε k\n",
    "\n",
    "#for k in range(1, K + 1):\n",
    "    # Επιλογή των πρώτων k συνιστωσών\n",
    "#    U_k = U[:, :k]\n",
    "#    Sigma_k = np.diag(Sigma[:k])\n",
    "#    VT_k = VT[:k, :]\n",
    "\n",
    "    # Υπολογισμός των τιμών Rk[u, c]\n",
    "#    predictions = np.array([np.dot(U_k[i, :], np.dot(Sigma_k, VT_k[:, j])) for i, j in zip(test_data['reviewerID'], test_data['asin'])])\n",
    "\n",
    "    # Υπολογισμός του RMSE\n",
    "#    rmse = sqrt(mean_squared_error(test_data['ratings'], predictions))\n",
    "#    rmse_values.append(rmse)\n",
    "\n",
    "# Εκτύπωση των τιμών RMSE για κάθε k\n",
    "#for k, rmse_value in enumerate(rmse_values, 1):\n",
    "#    print(f'k={k}: RMSE={rmse_value}')\n",
    "    \n",
    "# Γραφική παράσταση του RMSE ως προς το k\n",
    "#plt.plot(K_values, RMSE_values, marker='o')\n",
    "#plt.xlabel('k')\n",
    "#plt.ylabel('RMSE')\n",
    "#plt.title('RMSE for different values of k')\n",
    "#plt.show()\n",
    "\n",
    " #Εύρεση της ελάχιστης τιμής του RMSE και του αντίστοιχου k\n",
    "#min_rmse = min(RMSE_values)\n",
    "#optimal_k = K_values[RMSE_values.index(min_rmse)]\n",
    "\n",
    "#print(f\"The optimal value of k is {optimal_k} with RMSE {min_rmse}\")\n",
    "\n"
   ]
  },
  {
   "cell_type": "code",
   "execution_count": null,
   "id": "a5438474",
   "metadata": {},
   "outputs": [],
   "source": []
  }
 ],
 "metadata": {
  "kernelspec": {
   "display_name": "Python 3 (ipykernel)",
   "language": "python",
   "name": "python3"
  },
  "language_info": {
   "codemirror_mode": {
    "name": "ipython",
    "version": 3
   },
   "file_extension": ".py",
   "mimetype": "text/x-python",
   "name": "python",
   "nbconvert_exporter": "python",
   "pygments_lexer": "ipython3",
   "version": "3.11.5"
  }
 },
 "nbformat": 4,
 "nbformat_minor": 5
}
